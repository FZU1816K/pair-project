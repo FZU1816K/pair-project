{
 "cells": [
  {
   "cell_type": "code",
   "execution_count": 1,
   "metadata": {},
   "outputs": [],
   "source": [
    "import os\n",
    "import re\n",
    "import urllib\n",
    "import requests\n",
    "\n"
   ]
  },
  {
   "cell_type": "code",
   "execution_count": 2,
   "metadata": {},
   "outputs": [],
   "source": [
    "def get_context(url):\n",
    "    web_context = requests.get(url)\n",
    "    return web_context.text\n",
    "\n",
    "url = 'http://openaccess.thecvf.com//CVPR2018.py'\n",
    "web_context = get_context(url)\n"
   ]
  },
  {
   "cell_type": "code",
   "execution_count": 7,
   "metadata": {},
   "outputs": [
    {
     "name": "stdout",
     "output_type": "stream",
     "text": [
      "979\n"
     ]
    }
   ],
   "source": [
    "link_list = re.findall(r\"(?<=href=\\\").+?html(?=\\\">)\",web_context)\n",
    "print(len(link_list))"
   ]
  },
  {
   "cell_type": "code",
   "execution_count": 4,
   "metadata": {},
   "outputs": [],
   "source": [
    "#name_list = re.findall(r\"(?<=2018_paper.html\\\">).+(?=</a>)\",web_context)"
   ]
  },
  {
   "cell_type": "code",
   "execution_count": 5,
   "metadata": {},
   "outputs": [
    {
     "name": "stdout",
     "output_type": "stream",
     "text": [
      "['\\nWe introduce an interactive learning framework for the development and testing of intelligent visual systems, called learning-by-asking (LBA).  We explore LBA in context of the Visual Question Answering (VQA) task. LBA differs from standard VQA training in that most questions are not observed during training time, and the learner must ask questions it wants answers to. Thus, LBA more closely mimics natural learning and has the potential to be more data-efficient than the traditional VQA setting. We present a model that performs LBA on the CLEVR dataset, and show that it automatically discovers an easy-to-hard curriculum when learning interactively from an oracle. Our LBA generated data consistently matches or outperforms the CLEVR train data and is more sample efficient. We also show that our model asks questions that generalize to state-of-the-art VQA models and to novel test time distributions.']\n",
      "['\\nLearning by Asking Questions']\n"
     ]
    }
   ],
   "source": [
    "#paper_context = get_context('http://openaccess.thecvf.com/content_cvpr_2018/html/Misra_Learning_by_Asking_CVPR_2018_paper.html')\n",
    "#title = re.findall(r\"<div id=\\\"papertitle\\\">([\\s\\S]*?)</div>\",paper_context)\n",
    "#abstract =  re.findall(r\"<div id=\\\"abstract\\\" >([\\s\\S]*?)</div>\",paper_context)\n"
   ]
  },
  {
   "cell_type": "code",
   "execution_count": 8,
   "metadata": {},
   "outputs": [],
   "source": [
    "cnt = 0\n",
    "f = open('result.txt','w',encoding='utf-8')\n",
    "\n",
    "while cnt < len(link_list):\n",
    "    link = link_list[cnt]\n",
    "    paper_context = get_context(\"http://openaccess.thecvf.com/\" + link)\n",
    "    title = re.findall(r\"<div id=\\\"papertitle\\\">([\\s\\S]*?)</div>\",paper_context)\n",
    "    abstract = re.findall(r\"<div id=\\\"abstract\\\" >([\\d\\D]*?)</div>\",paper_context)\n",
    "    title_str = \"Title: \" + title[0][1:] + '\\n'\n",
    "    abstract_str = \"Abstract: \" + abstract[0][1:] + '\\n'\n",
    "    f.write(str(int(cnt)))\n",
    "    f.write('\\n')\n",
    "    f.write(title_str)\n",
    "    f.write(abstract_str)\n",
    "    f.write('\\n')\n",
    "   \n",
    "    #print(title[0])\n",
    "    cnt += 1\n",
    "    "
   ]
  },
  {
   "cell_type": "code",
   "execution_count": null,
   "metadata": {},
   "outputs": [],
   "source": []
  },
  {
   "cell_type": "code",
   "execution_count": null,
   "metadata": {},
   "outputs": [],
   "source": []
  },
  {
   "cell_type": "code",
   "execution_count": null,
   "metadata": {},
   "outputs": [],
   "source": []
  },
  {
   "cell_type": "code",
   "execution_count": null,
   "metadata": {},
   "outputs": [],
   "source": []
  }
 ],
 "metadata": {
  "kernelspec": {
   "display_name": "Python 3",
   "language": "python",
   "name": "python3"
  },
  "language_info": {
   "codemirror_mode": {
    "name": "ipython",
    "version": 3
   },
   "file_extension": ".py",
   "mimetype": "text/x-python",
   "name": "python",
   "nbconvert_exporter": "python",
   "pygments_lexer": "ipython3",
   "version": "3.6.5"
  }
 },
 "nbformat": 4,
 "nbformat_minor": 2
}
